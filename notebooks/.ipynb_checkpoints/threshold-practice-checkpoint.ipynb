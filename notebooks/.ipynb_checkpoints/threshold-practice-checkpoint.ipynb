{
 "cells": [
  {
   "cell_type": "code",
   "execution_count": 1,
   "metadata": {
    "collapsed": false
   },
   "outputs": [],
   "source": [
    "%matplotlib inline\n",
    "import pandas as pd  \n",
    "import numpy as np\n",
    "\n",
    "from sklearn.cross_validation import train_test_split  \n",
    "from sklearn.ensemble import RandomForestClassifier  \n",
    "from sklearn.metrics import precision_recall_curve  \n",
    "from sklearn.preprocessing import LabelEncoder\n",
    "import matplotlib.pyplot as plt\n",
    "import seaborn as sns"
   ]
  },
  {
   "cell_type": "code",
   "execution_count": 2,
   "metadata": {
    "collapsed": true
   },
   "outputs": [],
   "source": [
    "df = pd.read_csv('http://www.dataminingconsultant.com/data/churn.txt')"
   ]
  },
  {
   "cell_type": "code",
   "execution_count": 3,
   "metadata": {
    "collapsed": true
   },
   "outputs": [],
   "source": [
    "# Some Preprocessing\n",
    "df.columns = [c.lower().replace(' ', '_').replace('?', '').replace(\"'\", \"\") for c in df.columns]"
   ]
  },
  {
   "cell_type": "code",
   "execution_count": 4,
   "metadata": {
    "collapsed": false
   },
   "outputs": [],
   "source": [
    "state_encoder = LabelEncoder()  \n",
    "df.state = state_encoder.fit_transform(df.state)\n",
    "\n",
    "del df['phone']"
   ]
  },
  {
   "cell_type": "code",
   "execution_count": 5,
   "metadata": {
    "collapsed": false
   },
   "outputs": [],
   "source": [
    "binary_columns = ['intl_plan', 'vmail_plan', 'churn']  \n",
    "for col in binary_columns:  \n",
    "    df[col] = df[col].map({\n",
    "            'no': 0\n",
    "        ,   'False.': 0\n",
    "        ,   'yes': 1\n",
    "        ,   'True.': 1\n",
    "    })\n"
   ]
  },
  {
   "cell_type": "code",
   "execution_count": 6,
   "metadata": {
    "collapsed": false
   },
   "outputs": [],
   "source": [
    "# Build the classifier and get the predictions\n",
    "clf = RandomForestClassifier(n_estimators=50, oob_score=True)  \n",
    "test_size_percent = 0.1\n",
    "\n",
    "signals = df[[c for c in df.columns if c != 'churn']]  \n",
    "labels = df['churn']"
   ]
  },
  {
   "cell_type": "code",
   "execution_count": 7,
   "metadata": {
    "collapsed": false
   },
   "outputs": [],
   "source": [
    "train_signals, test_signals, train_labels, test_labels = train_test_split(signals, labels, test_size=test_size_percent)  \n",
    "clf.fit(train_signals, train_labels)  \n",
    "predictions = clf.predict_proba(test_signals)[:,1]"
   ]
  },
  {
   "cell_type": "code",
   "execution_count": 8,
   "metadata": {
    "collapsed": false
   },
   "outputs": [],
   "source": [
    "precision, recall, thresholds = precision_recall_curve(test_labels, predictions)  \n",
    "thresholds = np.append(thresholds, 1)\n",
    "\n",
    "queue_rate = []  \n",
    "for threshold in thresholds:  \n",
    "    queue_rate.append((predictions >= threshold).mean())"
   ]
  },
  {
   "cell_type": "code",
   "execution_count": 11,
   "metadata": {
    "collapsed": false
   },
   "outputs": [],
   "source": [
    "plt.plot(thresholds, precision, color=sns.color_palette()[0])  \n",
    "plt.plot(thresholds, recall, color=sns.color_palette()[1])  \n",
    "plt.plot(thresholds, queue_rate, color=sns.color_palette()[2])\n",
    "\n",
    "leg = plt.legend(('precision', 'recall', 'queue_rate'), frameon=True)  \n",
    "leg.get_frame().set_edgecolor('k')  \n",
    "plt.xlabel('threshold')  \n",
    "plt.ylabel('%')\n",
    "\n",
    "%matplotlib inline\n",
    "plt.show()"
   ]
  },
  {
   "cell_type": "code",
   "execution_count": 12,
   "metadata": {
    "collapsed": false
   },
   "outputs": [],
   "source": [
    "clf = RandomForestClassifier(n_estimators=50, oob_score=True)"
   ]
  },
  {
   "cell_type": "code",
   "execution_count": 13,
   "metadata": {
    "collapsed": true
   },
   "outputs": [],
   "source": [
    "n_trials = 50  \n",
    "test_size_percent = 0.1\n",
    "\n",
    "signals = df[[c for c in df.columns if c != 'churn']]  \n",
    "labels = df['churn']\n",
    "\n",
    "plot_data = []"
   ]
  },
  {
   "cell_type": "code",
   "execution_count": 14,
   "metadata": {
    "collapsed": true
   },
   "outputs": [],
   "source": [
    "for trial in range(n_trials):  \n",
    "    train_signals, test_signals, train_labels, test_labels = train_test_split(signals, labels, test_size=test_size_percent)\n",
    "    clf.fit(train_signals, train_labels)\n",
    "    predictions = clf.predict_proba(test_signals)[:,1]\n",
    "\n",
    "    precision, recall, thresholds = precision_recall_curve(test_labels, predictions)\n",
    "    thresholds = np.append(thresholds, 1)\n",
    "\n",
    "    queue_rate = []\n",
    "    for threshold in thresholds:\n",
    "        queue_rate.append((predictions >= threshold).mean())"
   ]
  },
  {
   "cell_type": "code",
   "execution_count": 15,
   "metadata": {
    "collapsed": true
   },
   "outputs": [],
   "source": [
    "    plot_data.append({\n",
    "            'thresholds': thresholds\n",
    "        ,   'precision': precision\n",
    "        ,   'recall': recall\n",
    "        ,   'queue_rate': queue_rate\n",
    "    })"
   ]
  },
  {
   "cell_type": "code",
   "execution_count": 16,
   "metadata": {
    "collapsed": false
   },
   "outputs": [],
   "source": [
    "for p in plot_data:  \n",
    "    plt.plot(p['thresholds'], p['precision'], color=sns.color_palette()[0], alpha=0.5)\n",
    "    plt.plot(p['thresholds'], p['recall'], color=sns.color_palette()[1], alpha=0.5)\n",
    "    plt.plot(p['thresholds'], p['queue_rate'], color=sns.color_palette()[2], alpha=0.5)\n",
    "\n",
    "leg = plt.legend(('precision', 'recall', 'queue_rate'), frameon=True)  \n",
    "leg.get_frame().set_edgecolor('k')  \n",
    "plt.xlabel('threshold')  \n",
    "plt.ylabel('%')\n",
    "\n",
    "%matplotlib inline\n",
    "plt.show()"
   ]
  },
  {
   "cell_type": "code",
   "execution_count": null,
   "metadata": {
    "collapsed": true
   },
   "outputs": [],
   "source": []
  }
 ],
 "metadata": {
  "kernelspec": {
   "display_name": "Python 3",
   "language": "python",
   "name": "python3"
  },
  "language_info": {
   "codemirror_mode": {
    "name": "ipython",
    "version": 3
   },
   "file_extension": ".py",
   "mimetype": "text/x-python",
   "name": "python",
   "nbconvert_exporter": "python",
   "pygments_lexer": "ipython3",
   "version": "3.4.3"
  }
 },
 "nbformat": 4,
 "nbformat_minor": 0
}
